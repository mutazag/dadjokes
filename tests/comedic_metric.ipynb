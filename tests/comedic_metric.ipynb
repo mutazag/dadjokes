{
 "cells": [
  {
   "cell_type": "code",
   "execution_count": 2,
   "metadata": {},
   "outputs": [],
   "source": [
    "jokescore = \"{\\\"comedic_value\\\": 3, \\\"relevance\\\": 2}\"\n"
   ]
  },
  {
   "cell_type": "code",
   "execution_count": 3,
   "metadata": {},
   "outputs": [],
   "source": [
    "import json\n",
    "def line_process(jokescore: str):\n",
    "    \"\"\"\n",
    "    This tool processes the prediction of a single line and returns the processed result.\n",
    "\n",
    "    :param groundtruth: the groundtruth of a single line.\n",
    "    :param prediction: the prediction of a single line.\n",
    "    \"\"\"\n",
    "    jokescore_json = json.loads(jokescore)\n",
    "\n",
    "    jokescore_dict = dict(jokescore_json)\n",
    "\n",
    "    return jokescore_dict\n",
    "\n",
    "\n"
   ]
  },
  {
   "cell_type": "code",
   "execution_count": 4,
   "metadata": {},
   "outputs": [],
   "source": [
    "result = line_process(jokescore)"
   ]
  },
  {
   "cell_type": "code",
   "execution_count": 5,
   "metadata": {},
   "outputs": [
    {
     "name": "stdout",
     "output_type": "stream",
     "text": [
      "3\n",
      "2\n"
     ]
    }
   ],
   "source": [
    "print(result['comedic_value'])\n",
    "print(result['relevance'])"
   ]
  },
  {
   "cell_type": "code",
   "execution_count": 8,
   "metadata": {},
   "outputs": [
    {
     "name": "stdout",
     "output_type": "stream",
     "text": [
      "[{'comedic_value': 3, 'relevance': 2}, {'comedic_value': 3, 'relevance': 2}, {'comedic_value': 3, 'relevance': 2}]\n",
      "key=comedic_value, value=3\n",
      "comedic_value is none\n",
      "key=relevance, value=2\n",
      "relevance is none\n",
      "key=comedic_value, value=3\n",
      "key=relevance, value=2\n",
      "key=comedic_value, value=3\n",
      "key=relevance, value=2\n",
      "{'comedic_value': [3, 3, 3], 'relevance': [2, 2, 2]}\n"
     ]
    }
   ],
   "source": [
    "processed_results = [result, result, result]\n",
    "\n",
    "print(processed_results)\n",
    "\n",
    "aggregated_results = {}\n",
    "\n",
    "for m in processed_results:\n",
    "    # if aggregated_results.\n",
    "    for k,v  in m.items():\n",
    "        print(f\"key={k}, value={v}\")\n",
    "        if aggregated_results.get(k) is None:\n",
    "\n",
    "            print(f\"{k} is none\")\n",
    "            aggregated_results[k] = [v]\n",
    "        else:\n",
    "            aggregated_results[k].append(v)\n",
    "\n",
    "print(aggregated_results)"
   ]
  },
  {
   "cell_type": "code",
   "execution_count": null,
   "metadata": {},
   "outputs": [],
   "source": []
  },
  {
   "cell_type": "code",
   "execution_count": null,
   "metadata": {},
   "outputs": [],
   "source": [
    "aggregated_results['comedic_value'].append(4)"
   ]
  },
  {
   "cell_type": "code",
   "execution_count": null,
   "metadata": {},
   "outputs": [],
   "source": [
    "aggregated_results\n"
   ]
  },
  {
   "cell_type": "code",
   "execution_count": null,
   "metadata": {},
   "outputs": [],
   "source": []
  }
 ],
 "metadata": {
  "kernelspec": {
   "display_name": ".venv",
   "language": "python",
   "name": "python3"
  },
  "language_info": {
   "codemirror_mode": {
    "name": "ipython",
    "version": 3
   },
   "file_extension": ".py",
   "mimetype": "text/x-python",
   "name": "python",
   "nbconvert_exporter": "python",
   "pygments_lexer": "ipython3",
   "version": "3.10.11"
  }
 },
 "nbformat": 4,
 "nbformat_minor": 2
}
