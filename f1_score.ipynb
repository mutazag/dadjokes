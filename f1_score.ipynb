{
 "cells": [
  {
   "cell_type": "code",
   "execution_count": 1,
   "metadata": {},
   "outputs": [],
   "source": [
    "\n",
    "from collections import Counter\n"
   ]
  },
  {
   "cell_type": "code",
   "execution_count": 2,
   "metadata": {},
   "outputs": [],
   "source": [
    "def compute_f1_score(ground_truth: str, answer: str) -> str:\n",
    "    import string\n",
    "    import re\n",
    "\n",
    "    class QASplitTokenizer:\n",
    "        def __call__(self, line):\n",
    "            \"\"\"Tokenizes an input line using split() on whitespace\n",
    "\n",
    "            :param line: a segment to tokenize\n",
    "            :return: the tokenized line\n",
    "            \"\"\"\n",
    "\n",
    "            return line.split()\n",
    "\n",
    "    def normalize_text(text) -> str:\n",
    "        \"\"\"Lower text and remove punctuation, articles and extra whitespace.\"\"\"\n",
    "\n",
    "        def remove_articles(text):\n",
    "            return re.sub(r\"\\b(a|an|the)\\b\", \" \", text)\n",
    "\n",
    "        def white_space_fix(text):\n",
    "            return \" \".join(text.split())\n",
    "\n",
    "        def remove_punc(text):\n",
    "            exclude = set(string.punctuation)\n",
    "            return \"\".join(ch for ch in text if ch not in exclude)\n",
    "\n",
    "        def lower(text):\n",
    "            return text.lower()\n",
    "\n",
    "        return white_space_fix(remove_articles(remove_punc(lower(text))))\n",
    "    prediction_tokens = normalize_text(answer)\n",
    "    reference_tokens = normalize_text(ground_truth)\n",
    "    tokenizer = QASplitTokenizer()\n",
    "    prediction_tokens = tokenizer(prediction_tokens)\n",
    "    reference_tokens = tokenizer(reference_tokens)\n",
    "\n",
    "    common_tokens = Counter(prediction_tokens) & Counter(reference_tokens)\n",
    "    num_common_tokens = sum(common_tokens.values())\n",
    "\n",
    "    if num_common_tokens == 0:\n",
    "        f1 = 0\n",
    "    else:\n",
    "        precision = 1.0 * num_common_tokens / len(prediction_tokens)\n",
    "        recall = 1.0 * num_common_tokens / len(reference_tokens)\n",
    "\n",
    "        f1 = (2 * precision * recall) / (precision + recall)\n",
    "\n",
    "    return f1\n"
   ]
  },
  {
   "cell_type": "code",
   "execution_count": 10,
   "metadata": {},
   "outputs": [
    {
     "name": "stdout",
     "output_type": "stream",
     "text": [
      "<class 'int'>\n",
      "0\n"
     ]
    }
   ],
   "source": [
    "f1_score = compute_f1_score(ground_truth=\"Both\", answer=\"Text Content\")\n",
    "\n",
    "\n",
    "print(type(f1_score))\n",
    "print(f1_score)"
   ]
  },
  {
   "cell_type": "code",
   "execution_count": 6,
   "metadata": {},
   "outputs": [
    {
     "name": "stdout",
     "output_type": "stream",
     "text": [
      "<class 'float'>\n",
      "1.0\n"
     ]
    }
   ],
   "source": [
    "f1_score = compute_f1_score(ground_truth=\"Both\", answer=\"Both\")\n",
    "\n",
    "\n",
    "print(type(f1_score))\n",
    "print(f1_score)"
   ]
  },
  {
   "cell_type": "code",
   "execution_count": 8,
   "metadata": {},
   "outputs": [
    {
     "name": "stdout",
     "output_type": "stream",
     "text": [
      "<class 'int'>\n",
      "0\n"
     ]
    }
   ],
   "source": [
    "f1_score = compute_f1_score(ground_truth=\"Text Content\", answer=\"Both\")\n",
    "\n",
    "\n",
    "print(type(f1_score))\n",
    "print(f1_score)"
   ]
  }
 ],
 "metadata": {
  "kernelspec": {
   "display_name": ".venv",
   "language": "python",
   "name": "python3"
  },
  "language_info": {
   "codemirror_mode": {
    "name": "ipython",
    "version": 3
   },
   "file_extension": ".py",
   "mimetype": "text/x-python",
   "name": "python",
   "nbconvert_exporter": "python",
   "pygments_lexer": "ipython3",
   "version": "3.10.0"
  }
 },
 "nbformat": 4,
 "nbformat_minor": 2
}
